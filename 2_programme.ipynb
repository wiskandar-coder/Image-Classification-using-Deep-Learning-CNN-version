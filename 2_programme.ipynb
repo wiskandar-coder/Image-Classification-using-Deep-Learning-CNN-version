{
 "cells": [
  {
   "cell_type": "markdown",
   "id": "0e6d5bde",
   "metadata": {},
   "source": [
    "# II. Application for Project 6 ML\n",
    "**(Image classification using deep-learning)**"
   ]
  },
  {
   "cell_type": "code",
   "execution_count": 1,
   "id": "a9c0159f",
   "metadata": {},
   "outputs": [],
   "source": [
    "import numpy as np\n",
    "import tensorflow as tf\n",
    "from tensorflow.keras.models import load_model\n",
    "from tensorflow.keras.preprocessing import image\n",
    "import joblib\n",
    "import gradio as gr"
   ]
  },
  {
   "cell_type": "code",
   "execution_count": 2,
   "id": "3cff5b5c",
   "metadata": {},
   "outputs": [
    {
     "name": "stdout",
     "output_type": "stream",
     "text": [
      "Running on local URL:  http://127.0.0.1:7860\n",
      "Running on public URL: https://b3361ca3b820e99198.gradio.live\n",
      "\n",
      "This share link expires in 72 hours. For free permanent hosting and GPU upgrades, run `gradio deploy` from Terminal to deploy to Spaces (https://huggingface.co/spaces)\n"
     ]
    },
    {
     "data": {
      "text/html": [
       "<div><iframe src=\"https://b3361ca3b820e99198.gradio.live\" width=\"100%\" height=\"500\" allow=\"autoplay; camera; microphone; clipboard-read; clipboard-write;\" frameborder=\"0\" allowfullscreen></iframe></div>"
      ],
      "text/plain": [
       "<IPython.core.display.HTML object>"
      ]
     },
     "metadata": {},
     "output_type": "display_data"
    },
    {
     "data": {
      "text/plain": []
     },
     "execution_count": 2,
     "metadata": {},
     "output_type": "execute_result"
    },
    {
     "name": "stdout",
     "output_type": "stream",
     "text": [
      "1/1 [==============================] - 2s 2s/step\n"
     ]
    }
   ],
   "source": [
    "# Title and description of the app\n",
    "title = \"Dog breed image classification using deep-learning\"\n",
    "description = \"The purpose of this app is to predict the dog breed from an image. The prediction is based on a convolutional neural network using transfer learning technique on EfficientNet v2 B0 model. The system is adapted to predict 120 dog breed. The images used for the training are from Stanford Dogs dataset (http://vision.stanford.edu/aditya86/ImageNetDogs/). By Wael Iskandar.\"\n",
    "\n",
    "\n",
    "# Load the classe names\n",
    "dog_breeds = joblib.load('model/dog_breeds.pkl')\n",
    "# Load the model weights\n",
    "model = load_model('model/EN_base_model.h5', compile=False)\n",
    "\n",
    "\n",
    "# Define the full prediction function\n",
    "def predict_pred(img):\n",
    "    img = image.img_to_array(img)\n",
    "    img = tf.image.resize(img, [224, 224])\n",
    "    img = img.numpy().astype('uint8')\n",
    "    \n",
    "    # Predictions\n",
    "    pred_label = model.predict(np.expand_dims(img, axis=0))\n",
    "    pred_class = dog_breeds[np.argmax(pred_label)]\n",
    "    return pred_class\n",
    "\n",
    "\n",
    "# Getting the gradio interface\n",
    "gr.Interface(fn=predict_pred, \n",
    "             inputs=gr.Image(),\n",
    "             outputs=gr.Label(num_top_classes=1),\n",
    "             title=title, description=description,\n",
    "             examples=['ex/Elvis.jpg', 'ex/Griffen.jpg']).launch(share=True)"
   ]
  }
 ],
 "metadata": {
  "kernelspec": {
   "display_name": "Python 3 (ipykernel)",
   "language": "python",
   "name": "python3"
  },
  "language_info": {
   "codemirror_mode": {
    "name": "ipython",
    "version": 3
   },
   "file_extension": ".py",
   "mimetype": "text/x-python",
   "name": "python",
   "nbconvert_exporter": "python",
   "pygments_lexer": "ipython3",
   "version": "3.10.8"
  }
 },
 "nbformat": 4,
 "nbformat_minor": 5
}
